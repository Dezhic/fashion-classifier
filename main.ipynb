{
 "cells": [
  {
   "cell_type": "code",
   "execution_count": null,
   "metadata": {},
   "outputs": [],
   "source": [
    "from fashion_mnist import fashion_mnist_data_loaders\n",
    "from model import CoolNameNet\n",
    "from trainer import Trainer\n",
    "from utils import notify\n",
    "\n",
    "import torch\n",
    "import random\n",
    "seed = 1\n",
    "torch.manual_seed(seed)\n",
    "random.seed(seed)\n",
    "cuda = torch.cuda.is_available()\n",
    "if cuda:\n",
    "    torch.cuda.manual_seed_all(seed)\n",
    "\n",
    "# Default hyperparameters\n",
    "num_epochs = 200\n",
    "\n",
    "width = 3\n",
    "depth = 5\n",
    "density = 2\n",
    "\n",
    "comment = \"\""
   ]
  },
  {
   "cell_type": "code",
   "execution_count": null,
   "metadata": {
    "scrolled": false
   },
   "outputs": [
    {
     "name": "stdout",
     "output_type": "stream",
     "text": [
      "Starting training...\n",
      "Epoch  0 in 204s || Train loss = 0.884, accuracy = 68.47 | Validation loss = 0.557, accuracy = 80.09\n",
      "Epoch  1 in 172s || Train loss = 0.539, accuracy = 79.89 | Validation loss = 0.447, accuracy = 84.00\n",
      "Epoch  2 in 179s || Train loss = 0.471, accuracy = 82.67 | Validation loss = 0.359, accuracy = 86.99\n",
      "Epoch  3 in 181s || Train loss = 0.424, accuracy = 84.21 | Validation loss = 0.478, accuracy = 85.99\n",
      "Epoch  4 in 179s || Train loss = 0.393, accuracy = 85.51 | Validation loss = 0.321, accuracy = 88.02\n",
      "Epoch  5 in 182s || Train loss = 0.371, accuracy = 86.31 | Validation loss = 0.296, accuracy = 89.11\n",
      "Epoch  6 in 169s || Train loss = 0.316, accuracy = 88.38 | Validation loss = 0.266, accuracy = 90.33\n",
      "Epoch  7 in 171s || Train loss = 0.304, accuracy = 88.78 | Validation loss = 0.267, accuracy = 90.55\n",
      "Epoch  8 in 170s || Train loss = 0.301, accuracy = 88.99 | Validation loss = 0.277, accuracy = 90.07\n"
     ]
    }
   ],
   "source": [
    "# Loading Fashion-MNIST dataset using torch.DataLoader iterator    \n",
    "train_loader, test_loader = fashion_mnist_data_loaders(augment_data=True)\n",
    "# Initialize the model \n",
    "model = CoolNameNet(input_channels=1, output_classes=10, width=width, depth=depth, density=density)\n",
    "# Directory for TensorBoard logs\n",
    "log_dir = \"runs/width={}_depth={}_density={}_totalparams={}_epochs={}___#{}\".format(width, depth, density, model.total_parameters_number(), num_epochs, comment)\n",
    "# Initialize Keras-like trainer\n",
    "trainer = Trainer(model, write_log=True, log_dir=log_dir)\n",
    "# Train the model\n",
    "trainer.fit(num_epochs, train_loader, test_loader)\n",
    "# Show desktop notification at the end of training\n",
    "notify(log_dir + ' is done!')"
   ]
  }
 ],
 "metadata": {
  "kernelspec": {
   "display_name": "Python 3",
   "language": "python",
   "name": "python3"
  },
  "language_info": {
   "codemirror_mode": {
    "name": "ipython",
    "version": 3
   },
   "file_extension": ".py",
   "mimetype": "text/x-python",
   "name": "python",
   "nbconvert_exporter": "python",
   "pygments_lexer": "ipython3",
   "version": "3.5.2"
  }
 },
 "nbformat": 4,
 "nbformat_minor": 2
}
